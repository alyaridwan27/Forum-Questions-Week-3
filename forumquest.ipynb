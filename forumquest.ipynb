{
 "cells": [
  {
   "cell_type": "code",
   "execution_count": 1,
   "metadata": {},
   "outputs": [
    {
     "name": "stdout",
     "output_type": "stream",
     "text": [
      "the area of the circle is 78.54\n"
     ]
    }
   ],
   "source": [
    "#Write a Python program which accepts the radius of a circle from the user and compute the area\n",
    "import math\n",
    "rad = eval(input(\"please enter the radius of the circle:\"))\n",
    "area = math.pi*(rad**2)\n",
    "print(\"the area of the circle is\", round(area,2))"
   ]
  },
  {
   "cell_type": "code",
   "execution_count": 2,
   "metadata": {},
   "outputs": [
    {
     "name": "stdout",
     "output_type": "stream",
     "text": [
      "doe john\n"
     ]
    }
   ],
   "source": [
    "#Write a Python program which accepts the user's first and last name and print them in reverse order with a space between them.\n",
    "first = input(\"please enter your first name:\")\n",
    "last = input(\"please enter your last name:\")\n",
    "print(last, first)"
   ]
  },
  {
   "cell_type": "code",
   "execution_count": 3,
   "metadata": {},
   "outputs": [
    {
     "name": "stdout",
     "output_type": "stream",
     "text": [
      "Red Black\n"
     ]
    }
   ],
   "source": [
    "# Write a Python program to display the first and last colors from the following list. \n",
    "# color_list = [\"Red\",\"Green\",\"White\",\"Black\"]\n",
    "color_list = [\"Red\",\"Green\",\"White\",\"Black\"]\n",
    "print(color_list[0], color_list[3])"
   ]
  },
  {
   "cell_type": "code",
   "execution_count": 4,
   "metadata": {},
   "outputs": [
    {
     "name": "stdout",
     "output_type": "stream",
     "text": [
      "84\n"
     ]
    }
   ],
   "source": [
    "# Write a Python program that accepts an integer (n) and computes the value of n+nn+nnn.\n",
    "\n",
    "n = int(input(\"please enter and integer (n): \"))\n",
    "nn = n*n\n",
    "nnn = n*n*n\n",
    "total = n+nn+nnn\n",
    "print(total)"
   ]
  },
  {
   "cell_type": "code",
   "execution_count": 6,
   "metadata": {},
   "outputs": [
    {
     "name": "stdout",
     "output_type": "stream",
     "text": [
      "the volume of the sphere is 904.78\n"
     ]
    }
   ],
   "source": [
    "# Write a Python program to get the volume of a sphere with radius 6.\n",
    "import math\n",
    "rad = 6\n",
    "volume = math.pi*(rad**3)*(4/3)\n",
    "print(\"the volume of the sphere is\", round(volume,2))"
   ]
  },
  {
   "cell_type": "code",
   "execution_count": 7,
   "metadata": {},
   "outputs": [
    {
     "name": "stdout",
     "output_type": "stream",
     "text": [
      "2\n"
     ]
    }
   ],
   "source": [
    "# Write a Python program to get the difference between a given number and 17, if the number is greater than 17 return double the absolute difference.\n",
    "num = eval(input(\"please enter a number:\"))\n",
    "if num>17:\n",
    "    print((num-17)*2)\n",
    "else:\n",
    "    print(17-num)"
   ]
  },
  {
   "cell_type": "code",
   "execution_count": 8,
   "metadata": {},
   "outputs": [
    {
     "name": "stdout",
     "output_type": "stream",
     "text": [
      "18\n"
     ]
    }
   ],
   "source": [
    "# Write a Python program to calculate the sum of three given numbers, if the values are equal then return thrice of their sum\n",
    "num1 = eval(input(\"please enter the first number:\"))\n",
    "num2= eval(input(\"please enter the second number:\"))\n",
    "num3 = eval(input(\"please enter the second number:\"))\n",
    "if num1==num2 and num1==num3 and num2==num3:\n",
    "    print((num1+num2+num3)*3)\n",
    "else:\n",
    "    print(num1+num2+num3)"
   ]
  },
  {
   "cell_type": "code",
   "execution_count": 9,
   "metadata": {},
   "outputs": [
    {
     "name": "stdout",
     "output_type": "stream",
     "text": [
      "5 is an odd number\n"
     ]
    }
   ],
   "source": [
    "# Write a Python program to find whether a given number (accept from the user) is even or odd, print out an appropriate message to the user.\n",
    "num = eval(input(\"please enter a number\"))\n",
    "if num%2 == 0:\n",
    "    print(num, \"is an even number\")\n",
    "else:\n",
    "    print(num, \"is an odd number\")"
   ]
  },
  {
   "cell_type": "code",
   "execution_count": 10,
   "metadata": {},
   "outputs": [
    {
     "name": "stdout",
     "output_type": "stream",
     "text": [
      "a is a vowel\n"
     ]
    }
   ],
   "source": [
    "#Write a Python program to test whether a letter is a vowel or not.\n",
    "vowel = [\"a\", \"i\", \"u\", \"e\", \"o\"]\n",
    "letter = input(\"please enter a letter:\")\n",
    "if letter in vowel:\n",
    "    print(letter, \"is a vowel\")\n",
    "else:\n",
    "    print(letter, \"is not a vowel\")"
   ]
  },
  {
   "cell_type": "code",
   "execution_count": null,
   "metadata": {},
   "outputs": [],
   "source": [
    "#Write a Python program to check whether a specified value is contained in a group of values.\n",
    "spec_val = input(\"please enter any random value\")\n",
    "group_values = [\"ya\",\"yi\",\"yu\",\"66\",\"ye\",\"12\",\"mooo\",\"79\",\"99\"]\n",
    "if spec_val in group_values:\n",
    "    print(spec_val, \"is in the group of values\")\n",
    "else:\n",
    "    print(spec_val, \"is not in the group values\")"
   ]
  },
  {
   "cell_type": "code",
   "execution_count": 11,
   "metadata": {},
   "outputs": [
    {
     "ename": "ModuleNotFoundError",
     "evalue": "No module named 'matplotlib'",
     "output_type": "error",
     "traceback": [
      "\u001b[0;31m---------------------------------------------------------------------------\u001b[0m",
      "\u001b[0;31mModuleNotFoundError\u001b[0m                       Traceback (most recent call last)",
      "Cell \u001b[0;32mIn [11], line 2\u001b[0m\n\u001b[1;32m      1\u001b[0m \u001b[38;5;66;03m#Write a Python program to create a histogram from a given list of integers.\u001b[39;00m\n\u001b[0;32m----> 2\u001b[0m \u001b[38;5;28;01mimport\u001b[39;00m \u001b[38;5;21;01mmatplotlib\u001b[39;00m\u001b[38;5;21;01m.\u001b[39;00m\u001b[38;5;21;01mpyplot\u001b[39;00m \u001b[38;5;28;01mas\u001b[39;00m \u001b[38;5;21;01mplt\u001b[39;00m\n\u001b[1;32m      3\u001b[0m height \u001b[38;5;241m=\u001b[39m [\u001b[38;5;241m160\u001b[39m,\u001b[38;5;241m178\u001b[39m,\u001b[38;5;241m180\u001b[39m,\u001b[38;5;241m145\u001b[39m,\u001b[38;5;241m160\u001b[39m,\u001b[38;5;241m180\u001b[39m,\u001b[38;5;241m155\u001b[39m,\u001b[38;5;241m160\u001b[39m,\u001b[38;5;241m155\u001b[39m,\u001b[38;5;241m160\u001b[39m,\u001b[38;5;241m145\u001b[39m,\u001b[38;5;241m145\u001b[39m,\u001b[38;5;241m178\u001b[39m,\u001b[38;5;241m180\u001b[39m]\n\u001b[1;32m      4\u001b[0m plt\u001b[38;5;241m.\u001b[39mhist(height, bins\u001b[38;5;241m=\u001b[39m\u001b[38;5;241m10\u001b[39m)\n",
      "\u001b[0;31mModuleNotFoundError\u001b[0m: No module named 'matplotlib'"
     ]
    }
   ],
   "source": [
    "#Write a Python program to create a histogram from a given list of integers.\n",
    "import matplotlib.pyplot as plt\n",
    "height = [160,178,180,145,160,180,155,160,155,160,145,145,178,180]\n",
    "plt.hist(height, bins=10)\n",
    "plt.show()"
   ]
  },
  {
   "cell_type": "code",
   "execution_count": null,
   "metadata": {},
   "outputs": [],
   "source": [
    "#Write a Python program to print all even numbers from a given numbers list in the same order.\n",
    "numbers = [ 386, 462, 47, 418, 907, 344, 236, 375, 823, 566, 597, 978, 328, 615, 953, 345,\n",
    "399, 162, 758, 219, 918, 237, 412, 566, 826, 248, 866, 950, 626, 949, 687, 217,\n",
    "815, 67, 104, 58, 512, 24, 892, 894, 767, 553, 81, 379, 843, 831, 445, 742, 717,\n",
    "958,743, 527 ]\n",
    "even_list = []\n",
    "for i in numbers:\n",
    "    if i % 2 == 0 :\n",
    "        even_list.append(i)\n",
    "print(even_list)"
   ]
  },
  {
   "cell_type": "code",
   "execution_count": 12,
   "metadata": {},
   "outputs": [
    {
     "name": "stdout",
     "output_type": "stream",
     "text": [
      "the area of the triangle is 18.0\n"
     ]
    }
   ],
   "source": [
    "# Write a Python program that will accept the base and height of a triangle and compute the area.\n",
    "base = eval(input(\"please enter the base of the triangle:\"))\n",
    "height = eval(input(\"please enter the height of the triangle\"))\n",
    "area = (1/2)*base*height\n",
    "print(\"the area of the triangle is\", area)"
   ]
  },
  {
   "cell_type": "code",
   "execution_count": null,
   "metadata": {},
   "outputs": [],
   "source": [
    "#Write a Python program to get the least common multiple (LCM) of two positive integers.\n",
    "import math\n",
    "num1 = eval(input(\"please enter the first number:\"))\n",
    "num2 = eval(input(\"please enter the second number:\"))\n",
    "print(\"the LCM is\", math.lcm(num1,num2))"
   ]
  },
  {
   "cell_type": "code",
   "execution_count": 15,
   "metadata": {},
   "outputs": [
    {
     "name": "stdout",
     "output_type": "stream",
     "text": [
      "zero\n"
     ]
    }
   ],
   "source": [
    "#Write a Python program to sum of three given integers. However, if two values are equal sum will be zero.\n",
    "num1 = eval(input(\"please enter the first number:\"))\n",
    "num2= eval(input(\"please enter the second number:\"))\n",
    "num3 = eval(input(\"please enter the second number:\"))\n",
    "if num1==num2 or num1==num3 or num2==num3:\n",
    "    print(\"zero\")\n",
    "else:\n",
    "    print(num1+num2+num3)"
   ]
  },
  {
   "cell_type": "code",
   "execution_count": null,
   "metadata": {},
   "outputs": [],
   "source": [
    "#Write a Python program to solve (x + y) * (x + y).\n",
    "x,y = eval(input(\"please input x and y:\"))\n",
    "total = (x+y)*(x+y)\n",
    "print(\"((\",x,\"+\",y,\")^2)=\",total)"
   ]
  },
  {
   "cell_type": "code",
   "execution_count": null,
   "metadata": {},
   "outputs": [],
   "source": [
    "#Write a Python program to compute the future value of a specified principal amount, rate of interest, and a number of years.\n",
    "amt = eval(input(\"please enter the principal amount:\"))\n",
    "int = eval(input(\"please enter the rate of interest:\"))\n",
    "years = eval(input(\"please enter the number of years:\"))\n",
    "future_value = amt*((1+(int/100))**years)\n",
    "print(round(future_value,2))"
   ]
  },
  {
   "cell_type": "code",
   "execution_count": 16,
   "metadata": {},
   "outputs": [
    {
     "name": "stdout",
     "output_type": "stream",
     "text": [
      "the distance between the first and second coordinate is 3.16\n"
     ]
    }
   ],
   "source": [
    "#Write a Python program to compute the distance between the points (x1, y1) and (x2, y2).\n",
    "import math\n",
    "x1,y1 = eval(input(\"please enter the first coordinate(x,y):\"))\n",
    "x2,y2 = eval(input(\"please enter the second coordinate(x,y):\"))\n",
    "d = math.sqrt(((x2-x1)**2)+((y2-y1)**2))\n",
    "print(\"the distance between the first and second coordinates is\", round(d,2))"
   ]
  },
  {
   "cell_type": "code",
   "execution_count": null,
   "metadata": {},
   "outputs": [],
   "source": [
    "#Write a python program to sum of the first n positive integers.\n",
    "sum = 0\n",
    "for i in range(1,num+1):\n",
    "     sum += i\n",
    "    \n",
    "print(sum)"
   ]
  },
  {
   "cell_type": "code",
   "execution_count": null,
   "metadata": {},
   "outputs": [],
   "source": [
    "#Write a Python program to convert height (in feet and inches) to centimeters.\n",
    "feet = eval(input(\"Input height in feet:\"))\n",
    "inches = eval(input(\"Input height in inches:\"))\n",
    "feet = feet*30.5\n",
    "inches = inches*2.54\n",
    "centimeter = feet + inches\n",
    "print(centimeter,\"cm\")"
   ]
  },
  {
   "cell_type": "code",
   "execution_count": 17,
   "metadata": {},
   "outputs": [
    {
     "name": "stdout",
     "output_type": "stream",
     "text": [
      "the hypotenuse of the right angled triangle is 6.4\n"
     ]
    }
   ],
   "source": [
    "#Write a Python program to calculate the hypotenuse of a right angled triangle.\n",
    "import math\n",
    "a = eval(input(\"please enter the base of the triangle\"))\n",
    "b = eval(input(\"please enter the height of the triangle\"))\n",
    "c = math.sqrt((a**2)+(b**2))\n",
    "print(\"the hypotenuse of the right angled triangle is\", round(c,2))"
   ]
  },
  {
   "cell_type": "code",
   "execution_count": null,
   "metadata": {},
   "outputs": [],
   "source": [
    "#Write a Python program to calculate body mass index.\n",
    "weight = eval(input(\"please enter your weight in kg:\"))\n",
    "height = eval(input(\"please enter your height in m\"))\n",
    "bmi = weight / (height**2)\n",
    "print(\"your bmi is\", round(bmi,2))"
   ]
  },
  {
   "cell_type": "code",
   "execution_count": null,
   "metadata": {},
   "outputs": [],
   "source": [
    "#Write a Python program to calculate midpoints of a line.\n",
    "x1,y1 = eval(input(\"please input the first endpoint:\"))\n",
    "x2,y2 = eval(input(\"please input the second endpoint:\"))\n",
    "midpoint_x = (x1 + x2)/2\n",
    "midpoint_y = (y1 + y2)/2\n",
    "print(midpoint_x,midpoint_y)"
   ]
  },
  {
   "cell_type": "code",
   "execution_count": null,
   "metadata": {},
   "outputs": [],
   "source": [
    "#Write a program which will find all such numbers which are divisible by 7 but are not a multiple of 5, between 2000 and 3200 (both included). \n",
    "#The numbers obtained should be printed in a comma-separated sequence on a single line.\n",
    "num_list = []\n",
    "for i in range(2000,3200):\n",
    "    if i % 7 == 0 and i % 5 == 0:\n",
    "        num_list.append(str(i))\n",
    "print(','.join(num_list))"
   ]
  }
 ],
 "metadata": {
  "kernelspec": {
   "display_name": "Python 3.10.7 64-bit",
   "language": "python",
   "name": "python3"
  },
  "language_info": {
   "codemirror_mode": {
    "name": "ipython",
    "version": 3
   },
   "file_extension": ".py",
   "mimetype": "text/x-python",
   "name": "python",
   "nbconvert_exporter": "python",
   "pygments_lexer": "ipython3",
   "version": "3.10.7"
  },
  "orig_nbformat": 4,
  "vscode": {
   "interpreter": {
    "hash": "aee8b7b246df8f9039afb4144a1f6fd8d2ca17a180786b69acc140d282b71a49"
   }
  }
 },
 "nbformat": 4,
 "nbformat_minor": 2
}
